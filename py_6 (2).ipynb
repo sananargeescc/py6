{
  "nbformat": 4,
  "nbformat_minor": 0,
  "metadata": {
    "colab": {
      "provenance": [],
      "collapsed_sections": []
    },
    "kernelspec": {
      "name": "python3",
      "display_name": "Python 3"
    },
    "language_info": {
      "name": "python"
    }
  },
  "cells": [
    {
      "cell_type": "markdown",
      "source": [
        "write a program which will find all such number which are divisible by 7 but are not a multiple of 5,between 2000 and 3200(both include).the number obtained should be printed in a comma-separated seqence on a single line"
      ],
      "metadata": {
        "id": "J4MDfnJBX8SH"
      }
    },
    {
      "cell_type": "code",
      "source": [
        "li=[]\n",
        "for i in range(2000,3201):\n",
        "  if i%7==0 and i%5!=0:\n",
        "    li.append(i)\n",
        "print(li)    "
      ],
      "metadata": {
        "colab": {
          "base_uri": "https://localhost:8080/"
        },
        "id": "p48BSR8pZJKz",
        "outputId": "85f036b5-7675-44e9-b6ff-c4ff345c390a"
      },
      "execution_count": null,
      "outputs": [
        {
          "output_type": "stream",
          "name": "stdout",
          "text": [
            "[2002, 2009, 2016, 2023, 2037, 2044, 2051, 2058, 2072, 2079, 2086, 2093, 2107, 2114, 2121, 2128, 2142, 2149, 2156, 2163, 2177, 2184, 2191, 2198, 2212, 2219, 2226, 2233, 2247, 2254, 2261, 2268, 2282, 2289, 2296, 2303, 2317, 2324, 2331, 2338, 2352, 2359, 2366, 2373, 2387, 2394, 2401, 2408, 2422, 2429, 2436, 2443, 2457, 2464, 2471, 2478, 2492, 2499, 2506, 2513, 2527, 2534, 2541, 2548, 2562, 2569, 2576, 2583, 2597, 2604, 2611, 2618, 2632, 2639, 2646, 2653, 2667, 2674, 2681, 2688, 2702, 2709, 2716, 2723, 2737, 2744, 2751, 2758, 2772, 2779, 2786, 2793, 2807, 2814, 2821, 2828, 2842, 2849, 2856, 2863, 2877, 2884, 2891, 2898, 2912, 2919, 2926, 2933, 2947, 2954, 2961, 2968, 2982, 2989, 2996, 3003, 3017, 3024, 3031, 3038, 3052, 3059, 3066, 3073, 3087, 3094, 3101, 3108, 3122, 3129, 3136, 3143, 3157, 3164, 3171, 3178, 3192, 3199]\n"
          ]
        }
      ]
    },
    {
      "cell_type": "markdown",
      "source": [
        "with a given integeral number n,write a programe to generate a dictionary that contain (i,i*i)such that is an integral number between 1 and n(both include).and then the programe should print dictionary"
      ],
      "metadata": {
        "id": "N-s2erSOa7YM"
      }
    },
    {
      "cell_type": "code",
      "source": [
        "d={}\n",
        "n=int(input(\"enter the number:\"))\n",
        "for i in range(1,n+1):\n",
        "    d[i]=i*i\n",
        "  \n",
        "print(d)\n",
        "\n"
      ],
      "metadata": {
        "colab": {
          "base_uri": "https://localhost:8080/"
        },
        "id": "88a_rtV0busw",
        "outputId": "79466698-8dbe-4672-d9c3-6ed8097f7577"
      },
      "execution_count": null,
      "outputs": [
        {
          "output_type": "stream",
          "name": "stdout",
          "text": [
            "enter the number:5\n",
            "{1: 1, 2: 4, 3: 9, 4: 16, 5: 25}\n"
          ]
        }
      ]
    },
    {
      "cell_type": "markdown",
      "source": [
        "write a programe which can compute the factorial of a given numbers.the result should be printed in a comma-separated seqence on a single line."
      ],
      "metadata": {
        "id": "HtQbnMd2c5Ty"
      }
    },
    {
      "cell_type": "code",
      "source": [
        "n=int(input(\"enter the number:\"))\n",
        "if n < 0:\n",
        "        print(0) \n",
        "elif n == 0 or n == 1:\n",
        "        print(1)\n",
        "else:\n",
        "     fact = 1\n",
        "     while(n > 1):\n",
        "            fact *= n\n",
        "            n -= 1\n",
        "     print(fact)\n",
        "      "
      ],
      "metadata": {
        "colab": {
          "base_uri": "https://localhost:8080/"
        },
        "id": "DIrhNacvNrJQ",
        "outputId": "5dca2fd0-0c87-48cf-a7fd-81e4e1905775"
      },
      "execution_count": null,
      "outputs": [
        {
          "output_type": "stream",
          "name": "stdout",
          "text": [
            "enter the number:8\n",
            "40320\n"
          ]
        }
      ]
    },
    {
      "cell_type": "markdown",
      "source": [
        "write a programe which accept a seqence of comma-separated numbers from console and generate a list and a tuple which contain every numbers."
      ],
      "metadata": {
        "id": "3DvM-qNjPBYF"
      }
    },
    {
      "cell_type": "code",
      "source": [
        "a=input(\"enter values:\")\n",
        "l=a.split(\",\")\n",
        "li=list(l)\n",
        "t=tuple(l)\n",
        "print(li)\n",
        "print(t)"
      ],
      "metadata": {
        "colab": {
          "base_uri": "https://localhost:8080/"
        },
        "id": "cxU7qIe0PlpX",
        "outputId": "f8f75996-a33a-4eed-d533-4adbac8b4b5e"
      },
      "execution_count": null,
      "outputs": [
        {
          "output_type": "stream",
          "name": "stdout",
          "text": [
            "enter values:2,3,4,5\n",
            "['2', '3', '4', '5']\n",
            "('2', '3', '4', '5')\n"
          ]
        }
      ]
    },
    {
      "cell_type": "markdown",
      "source": [
        "write a programe that accept a sentance and calculate the number of upper case and lower case letter."
      ],
      "metadata": {
        "id": "5-555toGQwNq"
      }
    },
    {
      "cell_type": "code",
      "source": [
        "a=input(\"enter the sentance:\")\n",
        "count1=0\n",
        "count2=0\n",
        "for i in a:\n",
        "  if (i.islower()):\n",
        "    count1+=1\n",
        "  elif (i.isupper()):\n",
        "    count2+=1\n",
        "print(\"number of lowercase:\",count1)\n",
        "print(\"number of uppercase:\",count2)      "
      ],
      "metadata": {
        "colab": {
          "base_uri": "https://localhost:8080/"
        },
        "id": "KHYWDCdJRB7t",
        "outputId": "282d20b4-13b2-4388-dcdc-34a6c9ded6e3"
      },
      "execution_count": null,
      "outputs": [
        {
          "output_type": "stream",
          "name": "stdout",
          "text": [
            "enter the sentance:Sana Nargees\n",
            "number of lowercase: 9\n",
            "number of uppercase: 2\n"
          ]
        }
      ]
    }
  ]
}